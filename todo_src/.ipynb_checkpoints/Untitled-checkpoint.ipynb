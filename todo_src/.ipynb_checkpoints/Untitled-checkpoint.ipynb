{
 "cells": [
  {
   "cell_type": "code",
   "execution_count": 14,
   "metadata": {},
   "outputs": [
    {
     "name": "stdout",
     "output_type": "stream",
     "text": [
      "Received {'1': 'Alpha', '2': 'Beta', 'a': 'Gamma', 'b': 'Delta', 'c': 'Epsilon'}\n"
     ]
    },
    {
     "data": {
      "text/plain": [
       "<rx.disposables.anonymousdisposable.AnonymousDisposable at 0x7f9bd076d8d0>"
      ]
     },
     "execution_count": 14,
     "metadata": {},
     "output_type": "execute_result"
    }
   ],
   "source": [
    "from rx import Observable\n",
    "\n",
    "source = Observable.of({\"1\": \"Alpha\", \"2\":\"Beta\", \"a\":\"Gamma\",\"b\": \"Delta\",\"c\": \"Epsilon\"})\n",
    "\n",
    "lengths = source.map(lambda n: n)\n",
    "\n",
    "def filter_func(dic):\n",
    "    for k in dic:\n",
    "        if len(dic[k]) > 5:\n",
    "            return dic[k]\n",
    "\n",
    "filtered = source.filter(filter_func)\n",
    "\n",
    "filtered.subscribe(lambda value: print(\"Received {0}\".format(value)))"
   ]
  },
  {
   "cell_type": "code",
   "execution_count": null,
   "metadata": {},
   "outputs": [],
   "source": []
  }
 ],
 "metadata": {
  "kernelspec": {
   "display_name": "Python 3",
   "language": "python",
   "name": "python3"
  },
  "language_info": {
   "codemirror_mode": {
    "name": "ipython",
    "version": 3
   },
   "file_extension": ".py",
   "mimetype": "text/x-python",
   "name": "python",
   "nbconvert_exporter": "python",
   "pygments_lexer": "ipython3",
   "version": "3.6.5"
  }
 },
 "nbformat": 4,
 "nbformat_minor": 2
}
