{
 "cells": [
  {
   "cell_type": "code",
   "execution_count": 1,
   "metadata": {},
   "outputs": [],
   "source": [
    "import sqlite3"
   ]
  },
  {
   "cell_type": "code",
   "execution_count": 41,
   "metadata": {},
   "outputs": [],
   "source": [
    "queries = {\n",
    "    'CREATE_TABLE': 'CREATE TABLE IF NOT EXISTS {} ({})',\n",
    "    'INSERT': 'INSERT INTO {} VALUES({})',\n",
    "    'SELECT_ALL': 'SELECT {} FROM {}',\n",
    "    'UPDATE': 'UPDATE {} SET {} WHERE {}',\n",
    "    'DELETE': 'DELETE FROM {} where {}',\n",
    "    'DROP_TABLE': 'DROP TABLE {}'\n",
    "}"
   ]
  },
  {
   "cell_type": "code",
   "execution_count": 20,
   "metadata": {},
   "outputs": [],
   "source": [
    "class Model(object):\n",
    "    \n",
    "    def __init__(self, data_file):\n",
    "        self.db = sqlite3.connect(data_file, check_same_thread=False)\n",
    "        self.data_file = data_file\n",
    "    \n",
    "    def execute(self, query, values=None, commit=False):\n",
    "        cursor = self.db.cursor()\n",
    "        if values:\n",
    "            print(list(values))\n",
    "            cursor.execute(query, list(values))\n",
    "        else:\n",
    "            cursor.execute(query)\n",
    "        if commit:\n",
    "            self.db.commit()\n",
    "        return cursor\n",
    "    \n",
    "    def create_table(self, table_name, values):\n",
    "        query = queries['CREATE_TABLE'].format(table_name, ','.join(values))\n",
    "        print(query)\n",
    "        cursor = self.execute(query, commit=True)\n",
    "        cursor.close()\n",
    "        \n",
    "    def insert(self, table_name, *args):\n",
    "        query = queries['INSERT'].format(table_name, ','.join('?' for _ in args))\n",
    "        print(args)\n",
    "        print(query)\n",
    "        return self.execute(query, args, commit=True)\n",
    "    \n",
    "    def select_all(self, table_name):\n",
    "        query = queries['SELECT_ALL'].format('*', table_name)\n",
    "        print(query)\n",
    "        return self.execute(query)\n",
    "    \n",
    "    def update(self, table_name, set_values, **kwargs):\n",
    "        updates = ['{}=?'.format(k) for k in set_values]\n",
    "        update_values = [set_values[k] for k in set_values]\n",
    "        condition = ['{}=?'.format(k) for k in kwargs]\n",
    "        condition_values = [kwargs[k] for k in kwargs]\n",
    "\n",
    "        query = queries['UPDATE'].format(table_name, ', '.join(updates), ' and '.join(condition))\n",
    "        print(query)\n",
    "        return self.execute(query, update_values + condition_values, commit=True)\n",
    "    \n",
    "    def drop_table(self, table_name):\n",
    "        query = queries['DROP_TABLE'].format(table_name)\n",
    "        return self.execute(query)\n",
    "        \n",
    "    def disconnect(self):\n",
    "        self.db.close()\n",
    "    \n",
    "    "
   ]
  },
  {
   "cell_type": "code",
   "execution_count": 21,
   "metadata": {},
   "outputs": [],
   "source": [
    "values = ['user_name TEXT', 'password TEXT']\n",
    "model_instance = Model('sql.data')\n",
    "model_instance.disconnect()"
   ]
  },
  {
   "cell_type": "code",
   "execution_count": 22,
   "metadata": {},
   "outputs": [
    {
     "name": "stdout",
     "output_type": "stream",
     "text": [
      "CREATE TABLE IF NOT EXISTS user_table (user_name TEXT,password TEXT)\n"
     ]
    }
   ],
   "source": [
    "model_instance = Model('sql.data')\n",
    "model_instance.create_table('user_table', values)\n"
   ]
  },
  {
   "cell_type": "code",
   "execution_count": 30,
   "metadata": {},
   "outputs": [
    {
     "name": "stdout",
     "output_type": "stream",
     "text": [
      "('user3', 'password111')\n",
      "INSERT INTO user_table VALUES(?,?)\n",
      "['user3', 'password111']\n"
     ]
    },
    {
     "data": {
      "text/plain": [
       "<sqlite3.Cursor at 0x7f2f1c82e960>"
      ]
     },
     "execution_count": 30,
     "metadata": {},
     "output_type": "execute_result"
    }
   ],
   "source": [
    "model_instance.insert('user_table','user3', 'password111')"
   ]
  },
  {
   "cell_type": "code",
   "execution_count": 53,
   "metadata": {},
   "outputs": [
    {
     "name": "stdout",
     "output_type": "stream",
     "text": [
      "SELECT * FROM user_table\n"
     ]
    }
   ],
   "source": [
    "cur = model_instance.select_all('user_table')\n"
   ]
  },
  {
   "cell_type": "code",
   "execution_count": 54,
   "metadata": {},
   "outputs": [
    {
     "name": "stdout",
     "output_type": "stream",
     "text": [
      "('user10', 'password')\n",
      "('user10', 'password')\n",
      "('user10', 'password')\n",
      "('user10', 'password')\n",
      "('user10', 'password')\n",
      "('user10', 'password')\n",
      "('user10', 'password')\n",
      "('user10', 'password')\n",
      "('user10', 'password')\n",
      "('user10', 'password')\n",
      "('user10', 'password')\n",
      "('user10', 'password')\n",
      "('user10', 'password')\n",
      "('user10', 'password')\n",
      "('user10', 'password')\n",
      "('user10', 'password')\n",
      "('user10', 'password')\n",
      "('user3', 'qweqwe')\n"
     ]
    }
   ],
   "source": [
    "for i in cur:\n",
    "    print(i)"
   ]
  },
  {
   "cell_type": "code",
   "execution_count": 51,
   "metadata": {},
   "outputs": [],
   "source": [
    "dic = {'password': 'qweqwe'}"
   ]
  },
  {
   "cell_type": "code",
   "execution_count": 52,
   "metadata": {
    "scrolled": true
   },
   "outputs": [
    {
     "name": "stdout",
     "output_type": "stream",
     "text": [
      "UPDATE user_table SET password=? WHERE user_name=?\n",
      "['qweqwe', 'user3']\n"
     ]
    },
    {
     "data": {
      "text/plain": [
       "<sqlite3.Cursor at 0x7f2f1c82eab0>"
      ]
     },
     "execution_count": 52,
     "metadata": {},
     "output_type": "execute_result"
    }
   ],
   "source": [
    "model_instance.update(table_name = 'user_table', set_values = dic, user_name='user3')"
   ]
  },
  {
   "cell_type": "code",
   "execution_count": 226,
   "metadata": {},
   "outputs": [],
   "source": [
    "def update(table_name, set_values, **kwargs):\n",
    "    updates = ['{}=?'.format(k) for k in set_values]\n",
    "    print(updates)\n",
    "    values = [set_values[k] for k in set_values]\n",
    "    print(values)\n",
    "    condition = []\n",
    "    for k in kwargs:\n",
    "        condition.append('='.join([k, kwargs[k]]))\n",
    "    print(' and '.join(condition))\n",
    "        \n",
    "    query = queries['UPDATE'].format(table_name, ', '.join(updates), ' and '.join(condition))\n",
    "    print(query)"
   ]
  },
  {
   "cell_type": "code",
   "execution_count": 227,
   "metadata": {},
   "outputs": [],
   "source": [
    "dic = {'user_name': 'user1', 'user_pass': 'name'}"
   ]
  },
  {
   "cell_type": "code",
   "execution_count": 228,
   "metadata": {
    "scrolled": true
   },
   "outputs": [
    {
     "name": "stdout",
     "output_type": "stream",
     "text": [
      "['user_name=?', 'user_pass=?']\n",
      "['user1', 'name']\n",
      "username=user1\n",
      "UPDATE table_name SET user_name=?, user_pass=? WHERE username=user1\n"
     ]
    }
   ],
   "source": [
    "update(table_name = 'table_name', set_values =dic , username = 'user1')"
   ]
  },
  {
   "cell_type": "code",
   "execution_count": 66,
   "metadata": {},
   "outputs": [],
   "source": [
    "from datebase import Model\n",
    "from sqlite3 import OperationalError, IntegrityError\n"
   ]
  },
  {
   "cell_type": "code",
   "execution_count": 67,
   "metadata": {},
   "outputs": [],
   "source": [
    "class Todo(Model):\n",
    "    def __init__(self, data_file, table_name, values):\n",
    "        val = ['id int NOT NULL',\n",
    "               'context TEXT NOT NULL',\n",
    "               'completed boolean NOT NULL',\n",
    "               'PRIMARY KEY(id)']\n",
    "        super(Todo, self).__init__(data_file)\n",
    "        self.create_table(table_name, values)\n",
    "        self.table_name = table_name\n",
    "    \n",
    "    def add(self, id, text):\n",
    "        self.close(self.insert(self.table_name, id, text, False))\n",
    "    \n",
    "    def show(self):\n",
    "        cursor = self.select_all(self.table_name)\n",
    "        result = cursor.fetchall()\n",
    "        for r in result:\n",
    "            print(r)\n",
    "        cursor.close()\n",
    "        \n",
    "    def update(self, index, context, completed=False):\n",
    "        set_values = {'context': context, 'completed': completed}\n",
    "        cursor = self.update_item(table_name = self.table_name, set_values = set_values, id=index)\n",
    "        cursor.close()\n",
    "        \n",
    "    def delete(self, index):\n",
    "        cursor = self.delete_item(table_name = self.table_name, id=index)\n",
    "        print(cursor)\n",
    "        cursor.close()\n",
    "        \n",
    "    def destory_table(self):\n",
    "        cursor = self.drop_table(self.table_name)\n",
    "        cursor.close()\n",
    "        \n",
    "        "
   ]
  },
  {
   "cell_type": "code",
   "execution_count": 68,
   "metadata": {},
   "outputs": [
    {
     "name": "stdout",
     "output_type": "stream",
     "text": [
      "CREATE TABLE IF NOT EXISTS todo_list (id int NOT NULL,context TEXT NOT NULL,completed boolean NOT NULL,PRIMARY KEY(id))\n",
      "DROP TABLE todo_list\n"
     ]
    }
   ],
   "source": [
    "val = ['id int NOT NULL', 'context TEXT NOT NULL', 'completed boolean NOT NULL', 'PRIMARY KEY(id)']\n",
    "table_name = 'todo_list'\n",
    "todo = Todo('todo_list.data', table_name, val)\n",
    "todo.destory_table()"
   ]
  },
  {
   "cell_type": "code",
   "execution_count": 69,
   "metadata": {},
   "outputs": [
    {
     "name": "stdout",
     "output_type": "stream",
     "text": [
      "CREATE TABLE IF NOT EXISTS todo_list (id int NOT NULL,context TEXT NOT NULL,completed boolean NOT NULL,PRIMARY KEY(id))\n",
      "(2, 'weqe', False)\n",
      "INSERT INTO todo_list VALUES(?,?,?)\n",
      "[2, 'weqe', False]\n"
     ]
    }
   ],
   "source": [
    "todo = Todo('todo_list.data', table_name, val)\n",
    "todo.add(2, 'weqe')"
   ]
  },
  {
   "cell_type": "code",
   "execution_count": 70,
   "metadata": {},
   "outputs": [
    {
     "name": "stdout",
     "output_type": "stream",
     "text": [
      "SELECT * FROM todo_list\n",
      "(2, 'weqe', 0)\n"
     ]
    }
   ],
   "source": [
    "todo.show()"
   ]
  },
  {
   "cell_type": "code",
   "execution_count": 71,
   "metadata": {
    "scrolled": true
   },
   "outputs": [
    {
     "name": "stdout",
     "output_type": "stream",
     "text": [
      "UPDATE todo_list SET context=?, completed=? WHERE id=?\n",
      "['asdasda', False, 2]\n"
     ]
    }
   ],
   "source": [
    "todo.update(2, 'asdasda', False)"
   ]
  },
  {
   "cell_type": "code",
   "execution_count": 72,
   "metadata": {},
   "outputs": [
    {
     "name": "stdout",
     "output_type": "stream",
     "text": [
      "[2]\n"
     ]
    },
    {
     "ename": "OperationalError",
     "evalue": "no such column: 'id=?'",
     "output_type": "error",
     "traceback": [
      "\u001b[0;31m---------------------------------------------------------------------------\u001b[0m",
      "\u001b[0;31mOperationalError\u001b[0m                          Traceback (most recent call last)",
      "\u001b[0;32m<ipython-input-72-26b2e5dd286f>\u001b[0m in \u001b[0;36m<module>\u001b[0;34m()\u001b[0m\n\u001b[0;32m----> 1\u001b[0;31m \u001b[0mtodo\u001b[0m\u001b[0;34m.\u001b[0m\u001b[0mdelete\u001b[0m\u001b[0;34m(\u001b[0m\u001b[0;36m2\u001b[0m\u001b[0;34m)\u001b[0m\u001b[0;34m\u001b[0m\u001b[0m\n\u001b[0m",
      "\u001b[0;32m<ipython-input-67-d21a4474c31a>\u001b[0m in \u001b[0;36mdelete\u001b[0;34m(self, index)\u001b[0m\n\u001b[1;32m     25\u001b[0m \u001b[0;34m\u001b[0m\u001b[0m\n\u001b[1;32m     26\u001b[0m     \u001b[0;32mdef\u001b[0m \u001b[0mdelete\u001b[0m\u001b[0;34m(\u001b[0m\u001b[0mself\u001b[0m\u001b[0;34m,\u001b[0m \u001b[0mindex\u001b[0m\u001b[0;34m)\u001b[0m\u001b[0;34m:\u001b[0m\u001b[0;34m\u001b[0m\u001b[0m\n\u001b[0;32m---> 27\u001b[0;31m         \u001b[0mcursor\u001b[0m \u001b[0;34m=\u001b[0m \u001b[0mself\u001b[0m\u001b[0;34m.\u001b[0m\u001b[0mdelete_item\u001b[0m\u001b[0;34m(\u001b[0m\u001b[0mtable_name\u001b[0m \u001b[0;34m=\u001b[0m \u001b[0mself\u001b[0m\u001b[0;34m.\u001b[0m\u001b[0mtable_name\u001b[0m\u001b[0;34m,\u001b[0m \u001b[0mid\u001b[0m\u001b[0;34m=\u001b[0m\u001b[0mindex\u001b[0m\u001b[0;34m)\u001b[0m\u001b[0;34m\u001b[0m\u001b[0m\n\u001b[0m\u001b[1;32m     28\u001b[0m         \u001b[0mprint\u001b[0m\u001b[0;34m(\u001b[0m\u001b[0mcursor\u001b[0m\u001b[0;34m)\u001b[0m\u001b[0;34m\u001b[0m\u001b[0m\n\u001b[1;32m     29\u001b[0m         \u001b[0mcursor\u001b[0m\u001b[0;34m.\u001b[0m\u001b[0mclose\u001b[0m\u001b[0;34m(\u001b[0m\u001b[0;34m)\u001b[0m\u001b[0;34m\u001b[0m\u001b[0m\n",
      "\u001b[0;32m~/workspace/todolist-react-bootstrap/todo_src/datebase.py\u001b[0m in \u001b[0;36mdelete_item\u001b[0;34m(self, table_name, **kwargs)\u001b[0m\n\u001b[1;32m     60\u001b[0m         \u001b[0mprint\u001b[0m\u001b[0;34m(\u001b[0m\u001b[0mcondition\u001b[0m\u001b[0;34m)\u001b[0m\u001b[0;34m\u001b[0m\u001b[0m\n\u001b[1;32m     61\u001b[0m         \u001b[0mcondition_values\u001b[0m \u001b[0;34m=\u001b[0m \u001b[0;34m[\u001b[0m\u001b[0mkwargs\u001b[0m\u001b[0;34m[\u001b[0m\u001b[0mk\u001b[0m\u001b[0;34m]\u001b[0m \u001b[0;32mfor\u001b[0m \u001b[0mk\u001b[0m \u001b[0;32min\u001b[0m \u001b[0mkwargs\u001b[0m\u001b[0;34m]\u001b[0m\u001b[0;34m\u001b[0m\u001b[0m\n\u001b[0;32m---> 62\u001b[0;31m         \u001b[0mprint\u001b[0m\u001b[0;34m(\u001b[0m\u001b[0mcondition_values\u001b[0m\u001b[0;34m)\u001b[0m\u001b[0;34m\u001b[0m\u001b[0m\n\u001b[0m\u001b[1;32m     63\u001b[0m         \u001b[0mquery\u001b[0m \u001b[0;34m=\u001b[0m \u001b[0mqueries\u001b[0m\u001b[0;34m[\u001b[0m\u001b[0;34m'DELETE'\u001b[0m\u001b[0;34m]\u001b[0m\u001b[0;34m.\u001b[0m\u001b[0mformat\u001b[0m\u001b[0;34m(\u001b[0m\u001b[0mtable_name\u001b[0m\u001b[0;34m,\u001b[0m \u001b[0;34m'and '\u001b[0m\u001b[0;34m.\u001b[0m\u001b[0mjoin\u001b[0m\u001b[0;34m(\u001b[0m\u001b[0mcondition\u001b[0m\u001b[0;34m)\u001b[0m\u001b[0;34m)\u001b[0m\u001b[0;34m\u001b[0m\u001b[0m\n\u001b[1;32m     64\u001b[0m         \u001b[0mprint\u001b[0m\u001b[0;34m(\u001b[0m\u001b[0;34m\"wwww\"\u001b[0m \u001b[0;34m+\u001b[0m \u001b[0mquery\u001b[0m\u001b[0;34m)\u001b[0m\u001b[0;34m\u001b[0m\u001b[0m\n",
      "\u001b[0;32m~/workspace/todolist-react-bootstrap/todo_src/datebase.py\u001b[0m in \u001b[0;36mexecute\u001b[0;34m(self, query, values, commit)\u001b[0m\n\u001b[1;32m     22\u001b[0m         \u001b[0;32mif\u001b[0m \u001b[0mvalues\u001b[0m\u001b[0;34m:\u001b[0m\u001b[0;34m\u001b[0m\u001b[0m\n\u001b[1;32m     23\u001b[0m             \u001b[0mprint\u001b[0m\u001b[0;34m(\u001b[0m\u001b[0mlist\u001b[0m\u001b[0;34m(\u001b[0m\u001b[0mvalues\u001b[0m\u001b[0;34m)\u001b[0m\u001b[0;34m)\u001b[0m\u001b[0;34m\u001b[0m\u001b[0m\n\u001b[0;32m---> 24\u001b[0;31m             \u001b[0mcursor\u001b[0m\u001b[0;34m.\u001b[0m\u001b[0mexecute\u001b[0m\u001b[0;34m(\u001b[0m\u001b[0mquery\u001b[0m\u001b[0;34m,\u001b[0m \u001b[0mlist\u001b[0m\u001b[0;34m(\u001b[0m\u001b[0mvalues\u001b[0m\u001b[0;34m)\u001b[0m\u001b[0;34m)\u001b[0m\u001b[0;34m\u001b[0m\u001b[0m\n\u001b[0m\u001b[1;32m     25\u001b[0m         \u001b[0;32melse\u001b[0m\u001b[0;34m:\u001b[0m\u001b[0;34m\u001b[0m\u001b[0m\n\u001b[1;32m     26\u001b[0m             \u001b[0mcursor\u001b[0m\u001b[0;34m.\u001b[0m\u001b[0mexecute\u001b[0m\u001b[0;34m(\u001b[0m\u001b[0mquery\u001b[0m\u001b[0;34m)\u001b[0m\u001b[0;34m\u001b[0m\u001b[0m\n",
      "\u001b[0;31mOperationalError\u001b[0m: no such column: 'id=?'"
     ]
    }
   ],
   "source": [
    "todo.delete(2)"
   ]
  },
  {
   "cell_type": "code",
   "execution_count": 46,
   "metadata": {},
   "outputs": [],
   "source": [
    "def delete_item(table_name, **kwargs):\n",
    "    condition = ['{}=?'.format(k) for k in kwargs]\n",
    "    condition_values = [kwargs[k] for k in kwargs]\n",
    "    query = queries['DELETE'].format(table_name, 'and '.join(condition))\n",
    "    print(query)"
   ]
  },
  {
   "cell_type": "code",
   "execution_count": 47,
   "metadata": {},
   "outputs": [
    {
     "name": "stdout",
     "output_type": "stream",
     "text": [
      "DELETE FROM WWW where id=?\n"
     ]
    }
   ],
   "source": [
    "delete_item(table_name = 'WWW', id=1)"
   ]
  },
  {
   "cell_type": "code",
   "execution_count": null,
   "metadata": {},
   "outputs": [],
   "source": []
  }
 ],
 "metadata": {
  "kernelspec": {
   "display_name": "Python 3",
   "language": "python",
   "name": "python3"
  },
  "language_info": {
   "codemirror_mode": {
    "name": "ipython",
    "version": 3
   },
   "file_extension": ".py",
   "mimetype": "text/x-python",
   "name": "python",
   "nbconvert_exporter": "python",
   "pygments_lexer": "ipython3",
   "version": "3.6.5"
  }
 },
 "nbformat": 4,
 "nbformat_minor": 2
}
